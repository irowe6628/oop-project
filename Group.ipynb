{
 "cells": [
  {
   "cell_type": "code",
   "execution_count": 5,
   "metadata": {},
   "outputs": [
    {
     "name": "stdout",
     "output_type": "stream",
     "text": [
      " There are 50 parking spaces available\n"
     ]
    }
   ],
   "source": [
    "from calendar import day_abbr\n",
    "from http.client import PAYMENT_REQUIRED\n",
    "\n",
    "\n",
    "class Parking():\n",
    "    def __init__(self,):\n",
    "        self.parking_spaces = 50\n",
    "        self.tickets_availble = 50\n",
    "        self.price30 = 5.99\n",
    "        self.price60 = 10.99\n",
    "        self.price90 = 13.99\n",
    "        self.current_ticket = {'paid': 'false'}\n",
    "        \n",
    "\n",
    "\n",
    "    def take_ticket(self):\n",
    "            print(f' There are {self.parking_spaces} parking spaces available')\n",
    "            while self.parking_spaces >= 0:\n",
    "                if self.parking_spaces == 0:\n",
    "                    break\n",
    "                ticket = int(input(f'The price for parking is ${self.price30} for 30 minutes, ${self.price60} for one hour, ${self.price90} for 90 minutes. (press #1 for 30 minutes, press #2 for one hour, press #3 for 90 minutes, press #4 to cancel.)' ))\n",
    "                if ticket == 1:\n",
    "                    print('Here is your ticket, it is valid for 30 minutes. Payment Code=111 (keep ticket for payment) ------')\n",
    "                    self.parking_spaces -= 1\n",
    "                    self.tickets_availble -= 1\n",
    "                    break\n",
    "                elif ticket == 2:\n",
    "                    print('Here is your ticket, it is valid for one hour. Payment Code=222 (keep ticket for payment) ------')\n",
    "                    self.parking_spaces -= 1\n",
    "                    self.tickets_availble -= 1\n",
    "                    break\n",
    "                elif ticket == 3:\n",
    "                    print('Here is your ticket, it is valid for 90 minutes. Payment Code=333 (keep ticket for payment) ------')\n",
    "                    self.parking_spaces -= 1\n",
    "                    self.tickets_availble -= 1\n",
    "                    break\n",
    "                elif ticket == 4:\n",
    "                    print('please leave')\n",
    "                    break\n",
    "                \n",
    "\n",
    "\n",
    "\n",
    "    def leave_garage(self):\n",
    "        leaving = int(input('What is your payment code?)'))\n",
    "        if leaving == 111:\n",
    "            self.current_ticket['paid'] = 'true' \n",
    "            print(f'You have been charged ${self.price30}.')\n",
    "            print('You now have 15 minutes to leave, have a great day!')\n",
    "            self.parking_spaces += 1\n",
    "            self.tickets_availble += 1\n",
    "        elif leaving == 222:\n",
    "            self.current_ticket['paid'] = 'true'\n",
    "            print(f'You have been charged ${self.price60}.')\n",
    "            print('You now have 15 minutes to leave, have a great day!')\n",
    "            self.parking_spaces += 1\n",
    "            self.tickets_availble += 1\n",
    "        elif leaving == 333:\n",
    "            self.current_ticket['paid'] = 'true'\n",
    "            print(f'You have been charged ${self.price90}.')\n",
    "            print('You now have 15 minutes to leave, have a great day!')\n",
    "            self.parking_spaces += 1\n",
    "            self.tickets_availble += 1\n",
    "        else:\n",
    "            print('Invalid input')\n",
    "\n",
    "   \n",
    "    def space_info(self):\n",
    "        print(f' There are {self.parking_spaces} parking spaces available')\n",
    "\n",
    "car = Parking()\n",
    "\n",
    "def runner():\n",
    "    while True:\n",
    "        user_choice = input('What would you like to do? (park, leave, or info )?').lower()\n",
    "        if user_choice == 'leave':\n",
    "            car.leave_garage()\n",
    "            break  \n",
    "        elif user_choice == 'park':\n",
    "            car.take_ticket()\n",
    "            break\n",
    "        elif user_choice == 'info':\n",
    "            car.space_info()\n",
    "            break\n",
    "        else:\n",
    "           print('Not a valid option, please try again')\n",
    "runner()\n",
    "\n",
    "  "
   ]
  }
 ],
 "metadata": {
  "kernelspec": {
   "display_name": "Python 3.10.6 64-bit",
   "language": "python",
   "name": "python3"
  },
  "language_info": {
   "codemirror_mode": {
    "name": "ipython",
    "version": 3
   },
   "file_extension": ".py",
   "mimetype": "text/x-python",
   "name": "python",
   "nbconvert_exporter": "python",
   "pygments_lexer": "ipython3",
   "version": "3.10.6"
  },
  "orig_nbformat": 4,
  "vscode": {
   "interpreter": {
    "hash": "aee8b7b246df8f9039afb4144a1f6fd8d2ca17a180786b69acc140d282b71a49"
   }
  }
 },
 "nbformat": 4,
 "nbformat_minor": 2
}
